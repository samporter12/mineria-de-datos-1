{
 "cells": [
  {
   "cell_type": "code",
   "execution_count": 2,
   "id": "e9ce06c8-dddb-4b05-b1e1-b228d55544de",
   "metadata": {},
   "outputs": [],
   "source": [
    "import pandas as pd\n",
    "import numpy as np\n",
    "from sklearn.model_selection import train_test_split\n",
    "from sklearn.linear_model import LinearRegression\n",
    "from sklearn.metrics import mean_squared_error, r2_score\n",
    "import matplotlib.pyplot as plt\n",
    "import seaborn as sns\n",
    "import joblib\n",
    "\n",
    "# 1. Cargar el dataset\n",
    "df = pd.read_csv('dolar_data.csv')\n",
    "\n",
    "# 2. Definir Variables\n",
    "X = df[['Dia', 'Inflacion', 'Tasa_interes']]\n",
    "y = df['Precio_Dolar']\n",
    "\n",
    "# 3. Dividir datos (opcional, pero buena práctica para evaluación)\n",
    "X_train, X_test, y_train, y_test = train_test_split(X, y, test_size=0.2, random_state=42)\n",
    "\n",
    "# 4. Ajustar el Modelo de Regresión Lineal Múltiple\n",
    "modelo_dolar = LinearRegression()\n",
    "modelo_dolar.fit(X_train, y_train)\n",
    "\n",
    "# 5. Predicción en el conjunto de prueba\n",
    "y_pred = modelo_dolar.predict(X_test)"
   ]
  },
  {
   "cell_type": "code",
   "execution_count": null,
   "id": "9a4e433d-ff33-4644-aaef-f4cd31cd0230",
   "metadata": {},
   "outputs": [],
   "source": []
  },
  {
   "cell_type": "code",
   "execution_count": null,
   "id": "66a2217c-1727-4718-88ba-4176e7738495",
   "metadata": {},
   "outputs": [],
   "source": []
  }
 ],
 "metadata": {
  "kernelspec": {
   "display_name": "Python [conda env:base] *",
   "language": "python",
   "name": "conda-base-py"
  },
  "language_info": {
   "codemirror_mode": {
    "name": "ipython",
    "version": 3
   },
   "file_extension": ".py",
   "mimetype": "text/x-python",
   "name": "python",
   "nbconvert_exporter": "python",
   "pygments_lexer": "ipython3",
   "version": "3.13.5"
  }
 },
 "nbformat": 4,
 "nbformat_minor": 5
}
